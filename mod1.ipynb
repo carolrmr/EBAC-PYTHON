{
 "cells": [
  {
   "cell_type": "markdown",
   "metadata": {
    "id": "KJqp9AANOCtf"
   },
   "source": [
    "<img src=\"https://raw.githubusercontent.com/andre-marcos-perez/ebac-course-utils/main/media/logo/newebac_logo_black_half.png\" alt=\"ebac-logo\">\n",
    "\n",
    "---\n",
    "\n",
    "# **Módulo** | Python: Variáveis & Tipos de Dados\n",
    "Caderno de **Exercícios**<br> \n",
    "Professor [André Perez](https://www.linkedin.com/in/andremarcosperez/)\n",
    "\n",
    "---"
   ]
  },
  {
   "cell_type": "markdown",
   "metadata": {
    "id": "d9jDtUbDOE1-"
   },
   "source": [
    "# **Tópicos**\n",
    "\n",
    "<ol type=\"1\">\n",
    "  <li>Introdução ao Google Colab;</li>\n",
    "  <li>Variáveis;</li>\n",
    "  <li>Números;</li>\n",
    "  <li><i>Strings;</i></li>\n",
    "  <li>Boleanos.</li>\n",
    "</ol>"
   ]
  },
  {
   "cell_type": "markdown",
   "metadata": {
    "id": "SmoHgt-lwkpD"
   },
   "source": [
    "---"
   ]
  },
  {
   "cell_type": "markdown",
   "metadata": {
    "id": "GABI6OW8OfQ2"
   },
   "source": [
    "# **Exercícios**"
   ]
  },
  {
   "cell_type": "markdown",
   "metadata": {
    "id": "muD1vxozykSC"
   },
   "source": [
    "## 1\\. Google Colab"
   ]
  },
  {
   "cell_type": "markdown",
   "metadata": {
    "id": "ahrFfCuBxJKs"
   },
   "source": [
    "Crie uma célula de código que escreva o texto \"Olá mundo!\", utilize o comando `print`."
   ]
  },
  {
   "cell_type": "markdown",
   "metadata": {
    "id": "KI9zQRT2xa7m"
   },
   "source": [
    "Crie uma célua de texto e adicione uma imagem."
   ]
  },
  {
   "cell_type": "code",
   "execution_count": 1,
   "metadata": {
    "colab": {
     "base_uri": "https://localhost:8080/"
    },
    "execution": {
     "iopub.execute_input": "2023-12-27T16:27:48.334471Z",
     "iopub.status.busy": "2023-12-27T16:27:48.333522Z",
     "iopub.status.idle": "2023-12-27T16:27:48.344761Z",
     "shell.execute_reply": "2023-12-27T16:27:48.343813Z"
    },
    "id": "Vcc3k5vJl7kG",
    "outputId": "d7d0c297-9b5c-4683-bd30-c3d90aee8b82"
   },
   "outputs": [
    {
     "name": "stdout",
     "output_type": "stream",
     "text": [
      "Olá mundo!\n"
     ]
    }
   ],
   "source": [
    "print(\"Olá mundo!\")"
   ]
  },
  {
   "cell_type": "markdown",
   "metadata": {
    "id": "zMN1Q3jdwoJm"
   },
   "source": [
    "---"
   ]
  },
  {
   "cell_type": "code",
   "execution_count": null,
   "metadata": {
    "id": "0FUbOxyh6VxO"
   },
   "outputs": [],
   "source": []
  },
  {
   "cell_type": "markdown",
   "metadata": {
    "id": "tFYOPLS3xiwe"
   },
   "source": [
    "## 2\\. Números"
   ]
  },
  {
   "cell_type": "markdown",
   "metadata": {
    "id": "O2G9gt7tx2c-"
   },
   "source": [
    "Preencha as células de código para preencher os valores de (A), (B) e (C) na tabela de ticket médio abaixo:\n",
    "\n",
    "<br>\n",
    "\n",
    "| Dia   | Valor Total Vendas | Qtd Total Vendas | Ticket Medio |\n",
    "|-------|--------------------|------------------|--------------|\n",
    "| 19/01 | (A)                | 3                | 320.52       |\n",
    "| 20/01 | 834.47             | (B)              | 119.21       |\n",
    "| 23/01 | 15378.12           | 5                | (C)          |"
   ]
  },
  {
   "cell_type": "code",
   "execution_count": 2,
   "metadata": {
    "colab": {
     "base_uri": "https://localhost:8080/"
    },
    "execution": {
     "iopub.execute_input": "2023-12-27T16:27:48.403118Z",
     "iopub.status.busy": "2023-12-27T16:27:48.402753Z",
     "iopub.status.idle": "2023-12-27T16:27:48.409620Z",
     "shell.execute_reply": "2023-12-27T16:27:48.408677Z"
    },
    "id": "nsrKH9EizNRD",
    "outputId": "13f1c376-3109-4ca9-8db1-dce1906faf40"
   },
   "outputs": [
    {
     "name": "stdout",
     "output_type": "stream",
     "text": [
      "1051.56\n"
     ]
    }
   ],
   "source": [
    "qtd_vendas = 3\n",
    "ticket_md = 350.52\n",
    "resultado = (qtd_vendas * ticket_md)\n",
    "print(resultado)\n"
   ]
  },
  {
   "cell_type": "code",
   "execution_count": 3,
   "metadata": {
    "colab": {
     "base_uri": "https://localhost:8080/"
    },
    "execution": {
     "iopub.execute_input": "2023-12-27T16:27:48.412918Z",
     "iopub.status.busy": "2023-12-27T16:27:48.412604Z",
     "iopub.status.idle": "2023-12-27T16:27:48.417060Z",
     "shell.execute_reply": "2023-12-27T16:27:48.416349Z"
    },
    "id": "QQ1GBGHJzMmi",
    "outputId": "f9e95acb-08ed-40b5-a793-ec7f45208d43"
   },
   "outputs": [
    {
     "name": "stdout",
     "output_type": "stream",
     "text": [
      "7.000000000000001\n"
     ]
    }
   ],
   "source": [
    "valor_total = 834.47\n",
    "ticket_md = 119.21\n",
    "resultados = (valor_total / ticket_md )\n",
    "print(resultados)\n"
   ]
  },
  {
   "cell_type": "code",
   "execution_count": 4,
   "metadata": {
    "colab": {
     "base_uri": "https://localhost:8080/"
    },
    "execution": {
     "iopub.execute_input": "2023-12-27T16:27:48.419721Z",
     "iopub.status.busy": "2023-12-27T16:27:48.419519Z",
     "iopub.status.idle": "2023-12-27T16:27:48.424308Z",
     "shell.execute_reply": "2023-12-27T16:27:48.423427Z"
    },
    "id": "W-li0nSMzKNa",
    "outputId": "2aa10c7f-7ce2-4b60-97c1-eacbaa9aa939"
   },
   "outputs": [
    {
     "name": "stdout",
     "output_type": "stream",
     "text": [
      "3075.6240000000003\n"
     ]
    }
   ],
   "source": [
    "valor_total = 15378.12\n",
    "qtd_total = 5\n",
    "resultado = (valor_total / qtd_total)\n",
    "print (resultado)\n"
   ]
  },
  {
   "cell_type": "markdown",
   "metadata": {
    "id": "3eoP-Vj9yzh8"
   },
   "source": [
    "---"
   ]
  },
  {
   "cell_type": "markdown",
   "metadata": {
    "id": "yUJ6kdony6Pr"
   },
   "source": [
    "## 3\\. Strings"
   ]
  },
  {
   "cell_type": "markdown",
   "metadata": {
    "id": "KDuZpg-5zCvO"
   },
   "source": [
    "Aplique três métodos distintos na *string* abaixo, você pode conferir alguns métodos neste [link](https://www.w3schools.com/python/python_ref_string.asp):"
   ]
  },
  {
   "cell_type": "code",
   "execution_count": 5,
   "metadata": {
    "colab": {
     "base_uri": "https://localhost:8080/"
    },
    "execution": {
     "iopub.execute_input": "2023-12-27T16:27:48.427511Z",
     "iopub.status.busy": "2023-12-27T16:27:48.427299Z",
     "iopub.status.idle": "2023-12-27T16:27:48.431601Z",
     "shell.execute_reply": "2023-12-27T16:27:48.430797Z"
    },
    "id": "k9zbyf7BzjKj",
    "outputId": "78600cad-4331-48f0-c59d-0aca59684e5c"
   },
   "outputs": [
    {
     "name": "stdout",
     "output_type": "stream",
     "text": [
      "1\n",
      "RODA MUNDO, RODA GIGANTE, RODA MOINHO, RODA PIÃO.\n",
      "roda mundo, roda gigante, roda moinho, roda pião.\n"
     ]
    }
   ],
   "source": [
    "cancao = 'Roda mundo, roda gigante, roda moinho, roda pião.'\n",
    "\n",
    "z = cancao.count('Roda')\n",
    "print(z)\n",
    "\n",
    "x = cancao.upper()\n",
    "print(x)\n",
    "\n",
    "y = cancao.lower()\n",
    "print(y)\n",
    "\n"
   ]
  },
  {
   "cell_type": "markdown",
   "metadata": {
    "id": "guZMHXVq0FnC"
   },
   "source": [
    "Extraia da string abaixo o valor da taxa **selic** na variável `selic` e o valor do **ano** na variavel `ano`. Imprima os valores na tela."
   ]
  },
  {
   "cell_type": "code",
   "execution_count": 6,
   "metadata": {
    "colab": {
     "base_uri": "https://localhost:8080/"
    },
    "execution": {
     "iopub.execute_input": "2023-12-27T16:27:48.434838Z",
     "iopub.status.busy": "2023-12-27T16:27:48.434466Z",
     "iopub.status.idle": "2023-12-27T16:27:48.438713Z",
     "shell.execute_reply": "2023-12-27T16:27:48.438032Z"
    },
    "id": "cbx_P4IQ0agK",
    "outputId": "65ac4f00-db08-4892-dc72-d6e6f086141a"
   },
   "outputs": [
    {
     "name": "stdout",
     "output_type": "stream",
     "text": [
      "2,75%\n",
      "6 anos.\n"
     ]
    }
   ],
   "source": [
    "noticia = 'Selic vai a 2,75% e supera expectativas; é a primeira alta em 6 anos.'\n",
    "taxa_selic = noticia[12:17]\n",
    "print(taxa_selic)\n",
    "\n",
    "ano_selic = noticia[62:69]\n",
    "print(ano_selic)"
   ]
  },
  {
   "cell_type": "markdown",
   "metadata": {
    "id": "wWzbu-OC0z3L"
   },
   "source": [
    "---"
   ]
  },
  {
   "cell_type": "markdown",
   "metadata": {
    "id": "no8w_Ati01xP"
   },
   "source": [
    "## 4\\. Booleanos"
   ]
  },
  {
   "cell_type": "markdown",
   "metadata": {
    "id": "D_0tC3SC099N"
   },
   "source": [
    "Utilize a tabela da verdade para responder: qual o valor da variável x?"
   ]
  },
  {
   "cell_type": "code",
   "execution_count": 7,
   "metadata": {
    "colab": {
     "base_uri": "https://localhost:8080/"
    },
    "execution": {
     "iopub.execute_input": "2023-12-27T16:27:48.442222Z",
     "iopub.status.busy": "2023-12-27T16:27:48.441675Z",
     "iopub.status.idle": "2023-12-27T16:27:48.445752Z",
     "shell.execute_reply": "2023-12-27T16:27:48.445132Z"
    },
    "id": "XwIEbxf91SpU",
    "outputId": "077b8e2e-76a5-4a9b-f57c-47a3b0026b88"
   },
   "outputs": [
    {
     "name": "stdout",
     "output_type": "stream",
     "text": [
      "True\n"
     ]
    }
   ],
   "source": [
    "a = False\n",
    "b = True\n",
    "\n",
    "x = not a & b\n",
    "\n",
    "print(x)"
   ]
  }
 ],
 "metadata": {
  "colab": {
   "provenance": [],
   "toc_visible": true
  },
  "kernelspec": {
   "display_name": "Python 3",
   "name": "python3"
  },
  "language_info": {
   "codemirror_mode": {
    "name": "ipython",
    "version": 3
   },
   "file_extension": ".py",
   "mimetype": "text/x-python",
   "name": "python",
   "nbconvert_exporter": "python",
   "pygments_lexer": "ipython3",
   "version": "3.10.12"
  }
 },
 "nbformat": 4,
 "nbformat_minor": 0
}
